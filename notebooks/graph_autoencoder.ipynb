{
 "cells": [
  {
   "cell_type": "code",
   "outputs": [],
   "source": [
    "import torch\n",
    "import torch.nn as nn\n",
    "import torch.nn.functional as F\n",
    "import matplotlib.pyplot as plt\n",
    "from torch_geometric.nn import GCNConv\n",
    "from torch_geometric import datasets\n",
    "from functools import cache\n",
    "from tqdm import tqdm\n",
    "from sklearn.metrics import average_precision_score, roc_auc_score"
   ],
   "metadata": {
    "collapsed": true,
    "ExecuteTime": {
     "end_time": "2024-04-28T12:26:52.891907300Z",
     "start_time": "2024-04-28T12:26:52.841803800Z"
    }
   },
   "id": "initial_id",
   "execution_count": 169
  },
  {
   "cell_type": "code",
   "outputs": [],
   "source": [
    "@cache\n",
    "def edge_index_to_adj(edge_index: torch.tensor, num_nodes: int) -> torch.tensor:\n",
    "\tadj = torch.zeros(num_nodes, num_nodes)\n",
    "\tadj[edge_index[0], edge_index[1]] = 1\n",
    "\treturn adj\n",
    "\n",
    "@cache\n",
    "def adj_to_edge_index(adj: torch.tensor) -> torch.tensor:\n",
    "\treturn adj.nonzero().t()"
   ],
   "metadata": {
    "collapsed": false,
    "ExecuteTime": {
     "end_time": "2024-04-28T12:26:53.434427400Z",
     "start_time": "2024-04-28T12:26:53.394369200Z"
    }
   },
   "id": "a093bd1cb29f4f33",
   "execution_count": 170
  },
  {
   "cell_type": "markdown",
   "source": [
    "# Graph Autoencoder (GAE)\n",
    "The GAE model is a simple graph autoencoder that learns a low-dimensional node representation."
   ],
   "metadata": {
    "collapsed": false
   },
   "id": "568f6496d25e3411"
  },
  {
   "cell_type": "code",
   "outputs": [
    {
     "data": {
      "text/plain": "Data(x=[2708, 1433], edge_index=[2, 10556], y=[2708], train_mask=[2708], val_mask=[2708], test_mask=[2708], train_edge_index=[2, 2308], val_edge_index=[2, 418], test_edge_index=[2, 1306])"
     },
     "execution_count": 181,
     "metadata": {},
     "output_type": "execute_result"
    }
   ],
   "source": [
    "dataset = datasets.Planetoid(root='../data/', name='Cora', split=\"full\")[0]\n",
    "adj = edge_index_to_adj(dataset.edge_index, dataset.x.shape[0])\n",
    "dataset.train_edge_index = adj_to_edge_index(adj[dataset.train_mask][:, dataset.train_mask])\n",
    "dataset.val_edge_index = adj_to_edge_index(adj[dataset.val_mask][:, dataset.val_mask])\n",
    "dataset.test_edge_index = adj_to_edge_index(adj[dataset.test_mask][:, dataset.test_mask])\n",
    "dataset"
   ],
   "metadata": {
    "collapsed": false,
    "ExecuteTime": {
     "end_time": "2024-04-28T12:31:05.781949600Z",
     "start_time": "2024-04-28T12:31:05.659013900Z"
    }
   },
   "id": "a7b6ae98c2ef11b7",
   "execution_count": 181
  },
  {
   "cell_type": "code",
   "outputs": [],
   "source": [
    "class GraphEncoder(nn.Module):\n",
    "\tdef __init__(self, in_channels: int, out_channels: int):\n",
    "\t\tsuper(GraphEncoder, self).__init__()\n",
    "\t\tself.conv1 = GCNConv(in_channels, 4 * out_channels)\n",
    "\t\tself.conv2 = GCNConv(4 * out_channels, out_channels)\n",
    "\t\t\n",
    "\tdef forward(self, x: torch.tensor, edge_index: torch.tensor) -> torch.tensor:\n",
    "\t\tx = F.relu(self.conv1(x, edge_index))\n",
    "\t\treturn self.conv2(x, edge_index)"
   ],
   "metadata": {
    "collapsed": false,
    "ExecuteTime": {
     "end_time": "2024-04-28T12:31:24.407098300Z",
     "start_time": "2024-04-28T12:31:24.378572700Z"
    }
   },
   "id": "2a6ae8ec2b10a0d1",
   "execution_count": 182
  },
  {
   "cell_type": "code",
   "outputs": [],
   "source": [
    "class GAE(nn.Module):\n",
    "\tdef __init__(self, in_channels: int, latent_dim: int):\n",
    "\t\tsuper(GAE, self).__init__()\n",
    "\t\tself.encoder = GraphEncoder(in_channels, latent_dim)\n",
    "\t\t\n",
    "\tdef encode(self, x: torch.tensor, edge_index: torch.tensor) -> torch.tensor:\n",
    "\t\treturn self.encoder(x, edge_index)\n",
    "\t\n",
    "\tdef decode(self, z: torch.tensor) -> torch.tensor:\n",
    "\t\treturn F.sigmoid(z @ z.t())\n",
    "\t\t\n",
    "\tdef forward(self, x: torch.tensor, edge_index: torch.tensor) -> torch.tensor:\n",
    "\t\treturn self.decode(self.encode(x, edge_index))"
   ],
   "metadata": {
    "collapsed": false,
    "ExecuteTime": {
     "end_time": "2024-04-28T12:31:25.642921600Z",
     "start_time": "2024-04-28T12:31:25.510008900Z"
    }
   },
   "id": "5503dc0bc088a39a",
   "execution_count": 183
  },
  {
   "cell_type": "code",
   "outputs": [],
   "source": [
    "def gae_loss(adj_hat: torch.tensor, adj: torch.tensor) -> torch.tensor:\n",
    "\treturn F.binary_cross_entropy(adj_hat.view(-1), adj.view(-1))"
   ],
   "metadata": {
    "collapsed": false,
    "ExecuteTime": {
     "end_time": "2024-04-28T12:31:26.731103300Z",
     "start_time": "2024-04-28T12:31:26.710495700Z"
    }
   },
   "id": "d75d9fc5fbdc8a2",
   "execution_count": 184
  },
  {
   "cell_type": "code",
   "outputs": [],
   "source": [
    "def train(data: datasets.Planetoid, gae: GAE, optimizer: torch.optim.Optimizer) -> torch.tensor:\n",
    "\tadj_hat = gae(data.x[data.train_mask], data.train_edge_index)\n",
    "\tadj = edge_index_to_adj(data.train_edge_index, data.x[data.train_mask].shape[0])\n",
    "\tloss = gae_loss(adj_hat, adj)\n",
    "\toptimizer.zero_grad()\n",
    "\tloss.backward()\n",
    "\toptimizer.step()\n",
    "\treturn loss"
   ],
   "metadata": {
    "collapsed": false,
    "ExecuteTime": {
     "end_time": "2024-04-28T12:31:27.135164100Z",
     "start_time": "2024-04-28T12:31:27.084282400Z"
    }
   },
   "id": "1d1ce677e77d44ab",
   "execution_count": 185
  },
  {
   "cell_type": "code",
   "outputs": [],
   "source": [
    "def evaluate(data: datasets.Planetoid, gae: GAE) -> torch.tensor:\n",
    "\tadj_hat = gae(data.x[data.val_mask], data.val_edge_index)\n",
    "\tadj = edge_index_to_adj(data.val_edge_index, data.x[data.val_mask].shape[0])\n",
    "\treturn gae_loss(adj_hat, adj)"
   ],
   "metadata": {
    "collapsed": false,
    "ExecuteTime": {
     "end_time": "2024-04-28T12:32:22.342109200Z",
     "start_time": "2024-04-28T12:32:22.218139600Z"
    }
   },
   "id": "3f9f578def06e052",
   "execution_count": 189
  },
  {
   "cell_type": "code",
   "outputs": [],
   "source": [
    "latent_dim, lr, num_epochs = 8, 1e-3, 12\n",
    "gae = GAE(dataset.num_features, latent_dim)\n",
    "optimizer = torch.optim.Adam(gae.parameters(), lr=lr)"
   ],
   "metadata": {
    "collapsed": false,
    "ExecuteTime": {
     "end_time": "2024-04-28T12:34:28.950217600Z",
     "start_time": "2024-04-28T12:34:28.873885700Z"
    }
   },
   "id": "9ecbc5d255a54bba",
   "execution_count": 197
  },
  {
   "cell_type": "code",
   "outputs": [
    {
     "name": "stderr",
     "output_type": "stream",
     "text": [
      "Epochs: 100%|██████████| 12/12 [00:03<00:00,  3.54it/s, Train Loss=0.694, Validation Loss=0.694]\n"
     ]
    }
   ],
   "source": [
    "train_loss, validation_loss = [], []\n",
    "for epoch in (pbar := tqdm(range(num_epochs), desc=\"Epochs\")):\n",
    "\ttrain_loss.append(train(dataset, gae, optimizer).item())\n",
    "\tvalidation_loss.append(evaluate(dataset, gae).item())\n",
    "\tpbar.set_postfix({\"Train Loss\": train_loss[-1], \"Validation Loss\": validation_loss[-1]})"
   ],
   "metadata": {
    "collapsed": false,
    "ExecuteTime": {
     "end_time": "2024-04-28T12:34:32.733573600Z",
     "start_time": "2024-04-28T12:34:29.308927800Z"
    }
   },
   "id": "e95a6b4f76e238ed",
   "execution_count": 198
  },
  {
   "cell_type": "code",
   "outputs": [
    {
     "data": {
      "text/plain": "<Figure size 640x480 with 1 Axes>",
      "image/png": "[encoded data removed]"
     },
     "metadata": {},
     "output_type": "display_data"
    }
   ],
   "source": [
    "plt.plot(train_loss, label=\"Train loss\")\n",
    "plt.plot(validation_loss, label=\"Validation loss\")\n",
    "plt.xlabel(\"Epoch\")\n",
    "plt.ylabel(\"Loss\")\n",
    "plt.title(\"Training Loss\")\n",
    "plt.legend()\n",
    "plt.show()"
   ],
   "metadata": {
    "collapsed": false,
    "ExecuteTime": {
     "end_time": "2024-04-28T12:34:33.670187800Z",
     "start_time": "2024-04-28T12:34:32.717939400Z"
    }
   },
   "id": "d3250d1309db1df6",
   "execution_count": 199
  },
  {
   "cell_type": "code",
   "outputs": [
    {
     "data": {
      "text/plain": "(0.004558007559227692, 0.8299432466151483)"
     },
     "execution_count": 200,
     "metadata": {},
     "output_type": "execute_result"
    }
   ],
   "source": [
    "adj_hat = gae(dataset.x[dataset.test_mask], dataset.test_edge_index)\n",
    "adj = edge_index_to_adj(dataset.test_edge_index, dataset.x[dataset.test_mask].shape[0])\n",
    "average_precision_score(adj.view(-1).detach().numpy(), adj_hat.view(-1).detach().numpy()), roc_auc_score(adj.view(-1).detach().numpy(), adj_hat.view(-1).detach().numpy())"
   ],
   "metadata": {
    "collapsed": false,
    "ExecuteTime": {
     "end_time": "2024-04-28T12:34:35.057124100Z",
     "start_time": "2024-04-28T12:34:33.674829600Z"
    }
   },
   "id": "809ce1853343bde8",
   "execution_count": 200
  },
  {
   "cell_type": "code",
   "outputs": [],
   "source": [],
   "metadata": {
    "collapsed": false
   },
   "id": "469fcc923f3e4e33"
  }
 ],
 "metadata": {
  "kernelspec": {
   "display_name": "Python 3",
   "language": "python",
   "name": "python3"
  },
  "language_info": {
   "codemirror_mode": {
    "name": "ipython",
    "version": 2
   },
   "file_extension": ".py",
   "mimetype": "text/x-python",
   "name": "python",
   "nbconvert_exporter": "python",
   "pygments_lexer": "ipython2",
   "version": "2.7.6"
  }
 },
 "nbformat": 4,
 "nbformat_minor": 5
}
