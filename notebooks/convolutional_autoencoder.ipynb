{
 "cells": [
  {
   "cell_type": "code",
   "outputs": [],
   "source": [
    "import torch\n",
    "import torch.nn as nn\n",
    "from torch.utils.data import DataLoader\n",
    "from torchvision import datasets\n",
    "from torchvision.transforms import ToTensor\n",
    "from tqdm import tqdm\n",
    "import matplotlib.pyplot as plt"
   ],
   "metadata": {
    "collapsed": false,
    "ExecuteTime": {
     "end_time": "2024-04-27T21:05:08.104876Z",
     "start_time": "2024-04-27T21:05:08.062721600Z"
    }
   },
   "id": "f7a50a9d14b25c95",
   "execution_count": 17
  },
  {
   "cell_type": "markdown",
   "source": [
    "# Convolutional Autoencoder\n",
    "The goal is to define and train a convolutional autoencoder model on the MNIST dataset. The model will have a architecture with convolutional layers and linear layers in the encoder, and linear layers followed by transposed convolutional layers in the decoder. The encoder will reduce the input image to a lower-dimensional latent space, and the decoder will reconstruct the image from the latent space."
   ],
   "metadata": {
    "collapsed": false
   },
   "id": "1853227657fffb64"
  },
  {
   "cell_type": "markdown",
   "source": [
    "## Dataset\n",
    "We use the MNIST dataset from torchvision."
   ],
   "metadata": {
    "collapsed": false
   },
   "id": "8125888bfd5620df"
  },
  {
   "cell_type": "code",
   "execution_count": 18,
   "id": "initial_id",
   "metadata": {
    "collapsed": true,
    "ExecuteTime": {
     "end_time": "2024-04-27T21:05:09.230167600Z",
     "start_time": "2024-04-27T21:05:08.110262500Z"
    }
   },
   "outputs": [
    {
     "data": {
      "text/plain": "<Figure size 800x320 with 10 Axes>",
      "image/png": "[encoded data removed]"
     },
     "metadata": {},
     "output_type": "display_data"
    }
   ],
   "source": [
    "train_data = datasets.MNIST(\n",
    "    root=\"../data\", train=True, download=True, transform=ToTensor()\n",
    ")\n",
    "test_data = datasets.MNIST(\n",
    "    root=\"../data\", train=False, download=True, transform=ToTensor()\n",
    ")\n",
    "\n",
    "figure = plt.figure(figsize=(8, 3.2))\n",
    "cols, rows = 5, 2\n",
    "for i in range(1, cols * rows + 1):\n",
    "    sample_idx = torch.randint(len(train_data), size=(1,)).item()\n",
    "    img, label = train_data[sample_idx]\n",
    "    figure.add_subplot(rows, cols, i)\n",
    "    plt.title(label)\n",
    "    plt.axis(\"off\")\n",
    "    plt.imshow(img.squeeze(), cmap=\"binary_r\")"
   ]
  },
  {
   "cell_type": "code",
   "outputs": [],
   "source": [
    "train_dataloader = torch.utils.data.DataLoader(train_data, batch_size=64, shuffle=True)\n",
    "test_dataloader = torch.utils.data.DataLoader(test_data, batch_size=64, shuffle=True)"
   ],
   "metadata": {
    "collapsed": false,
    "ExecuteTime": {
     "end_time": "2024-04-27T21:05:09.230167600Z",
     "start_time": "2024-04-27T21:05:09.220988800Z"
    }
   },
   "id": "d46f94509b369156",
   "execution_count": 19
  },
  {
   "cell_type": "markdown",
   "source": [
    "## Autoencoder model\n",
    "The autoencoder model consists of two parts: the encoder and the decoder. The encoder consists of convolutional layers, then linear layers to obtain the latent space vector, and the decoder consists of linear layers then transposed convolutional layers. The encoder reduces the input image to a lower-dimensional latent space, and the decoder reconstructs the image from the latent space."
   ],
   "metadata": {
    "collapsed": false
   },
   "id": "61db8443ff8d582b"
  },
  {
   "cell_type": "code",
   "outputs": [],
   "source": [
    "class Autoencoder(nn.Module):\n",
    "    def __init__(self, latent_dim):\n",
    "        super(Autoencoder, self).__init__()\n",
    "        self.encoder = nn.Sequential(\n",
    "            nn.Conv2d(1, 8, 3, stride=2, padding=1),\n",
    "            nn.ReLU(),\n",
    "            nn.Conv2d(8, 16, 3, stride=2, padding=1),\n",
    "            nn.ReLU(),\n",
    "            nn.Flatten(),\n",
    "            nn.Linear(16 * 7 * 7, 32),\n",
    "            nn.ReLU(),\n",
    "            nn.Linear(32, latent_dim),\n",
    "        )\n",
    "        self.decoder = nn.Sequential(\n",
    "            nn.Linear(latent_dim, 32),\n",
    "            nn.ReLU(),\n",
    "            nn.Linear(32, 16 * 7 * 7),\n",
    "            nn.ReLU(),\n",
    "            nn.Unflatten(1, (16, 7, 7)),\n",
    "            nn.ConvTranspose2d(16, 8, 3, stride=2, padding=1, output_padding=1),\n",
    "            nn.ReLU(),\n",
    "            nn.ConvTranspose2d(8, 1, 3, stride=2, padding=1, output_padding=1),\n",
    "            nn.Sigmoid()\n",
    "        )\n",
    "\n",
    "    def forward(self, x: torch.tensor) -> torch.tensor:\n",
    "        x = self.encoder(x)\n",
    "        x = self.decoder(x)\n",
    "        return x"
   ],
   "metadata": {
    "collapsed": false,
    "ExecuteTime": {
     "end_time": "2024-04-27T21:05:09.246376100Z",
     "start_time": "2024-04-27T21:05:09.236871400Z"
    }
   },
   "id": "fa9a4a04419be449",
   "execution_count": 20
  },
  {
   "cell_type": "markdown",
   "source": [
    "## Training the model\n",
    "We train the model using the mean squared error loss function."
   ],
   "metadata": {
    "collapsed": false
   },
   "id": "e6d241862cbe6dce"
  },
  {
   "cell_type": "code",
   "outputs": [],
   "source": [
    "latent_dim, lr, num_epochs = 8, 1e-3, 8\n",
    "autoencoder = Autoencoder(latent_dim)\n",
    "loss_fn = nn.MSELoss()\n",
    "optimizer = torch.optim.Adam(autoencoder.parameters(), lr=lr)"
   ],
   "metadata": {
    "collapsed": false,
    "ExecuteTime": {
     "end_time": "2024-04-27T21:05:09.312263Z",
     "start_time": "2024-04-27T21:05:09.244200800Z"
    }
   },
   "id": "69e1cf19c5ff28ca",
   "execution_count": 21
  },
  {
   "cell_type": "code",
   "outputs": [
    {
     "name": "stderr",
     "output_type": "stream",
     "text": [
      "Epochs:  25%|██▌       | 2/8 [02:04<04:00, 40.07s/it, Batch_train=99.68%, Train_loss=0.029]"
     ]
    }
   ],
   "source": [
    "train_loss, test_loss = [], []\n",
    "\n",
    "for epoch in  (pbar := tqdm(range(num_epochs), desc=\"Epochs\")):\n",
    "    \n",
    "    for batch_idx, (images, _) in enumerate(train_dataloader):\n",
    "        outputs = autoencoder(images)\n",
    "        loss = loss_fn(outputs, images)\n",
    "        optimizer.zero_grad()\n",
    "        loss.backward()\n",
    "        optimizer.step()\n",
    "        train_loss.append(loss.item())\n",
    "        pbar.set_postfix(Batch_train=f\"{batch_idx/len(train_dataloader) * 100:.2f}%\", Train_loss=f\"{loss.item():.3f}\")\n",
    "    \n",
    "    with torch.no_grad():\n",
    "        for batch_idx, (images, _) in enumerate(test_dataloader):\n",
    "            outputs = autoencoder(images)\n",
    "            loss = loss_fn(outputs, images)\n",
    "            test_loss.append(loss.item())\n",
    "            pbar.set_postfix(Batch_test=f\"{batch_idx/len(test_dataloader) * 100:.2f}%\", Test_loss=f\"{loss.item():.3f}\")"
   ],
   "metadata": {
    "collapsed": false,
    "is_executing": true,
    "ExecuteTime": {
     "start_time": "2024-04-27T21:05:09.261734400Z"
    }
   },
   "id": "184b0740a08fdfc4",
   "execution_count": null
  },
  {
   "cell_type": "code",
   "outputs": [],
   "source": [
    "fig, axs = plt.subplots(1, 2, figsize=(10, 4))\n",
    "plt.title(\"CAE training loss\")\n",
    "\n",
    "for i in range(2):\n",
    "    ax = axs[i]\n",
    "    ax.set_title(f'Loss - {\"Train\" if i == 0 else \"Test\"}')\n",
    "    ax.set_xlabel('Batch')\n",
    "    ax.set_ylabel('Loss')\n",
    "    data = train_loss if i == 0 else test_loss\n",
    "    ax.plot(data, label='Loss', color='C0' if i == 0 else 'C1')\n",
    "    ax.legend()\n",
    "\n",
    "plt.tight_layout()\n",
    "plt.show()"
   ],
   "metadata": {
    "collapsed": false,
    "is_executing": true
   },
   "id": "624ad442c02e962",
   "execution_count": null
  },
  {
   "cell_type": "markdown",
   "source": [
    "## Visualizing the results\n",
    "We visualize the original and reconstructed images for a few random samples from the test dataset."
   ],
   "metadata": {
    "collapsed": false
   },
   "id": "4d39a285bea99e10"
  },
  {
   "cell_type": "code",
   "outputs": [],
   "source": [
    "figure = plt.figure(figsize=(15, 3.3))\n",
    "plt.title(\"Original vs. reconstructed images\")\n",
    "plt.axis(\"off\")\n",
    "cols, rows = 7, 2\n",
    "for i in range(1, cols * rows + 1):\n",
    "    sample_idx = torch.randint(len(test_data), size=(1,)).item()\n",
    "    img, label = test_data[sample_idx]\n",
    "    output = autoencoder(img.unsqueeze(0))\n",
    "    figure.add_subplot(rows, cols, i)\n",
    "    plt.title(label)\n",
    "    plt.axis(\"off\")\n",
    "    plt.imshow(torch.cat([img.squeeze(), output.squeeze()], dim=1).detach().numpy(), cmap=\"binary_r\")"
   ],
   "metadata": {
    "collapsed": false,
    "is_executing": true
   },
   "id": "ea309d7b6971e9db",
   "execution_count": null
  }
 ],
 "metadata": {
  "kernelspec": {
   "display_name": "Python 3",
   "language": "python",
   "name": "python3"
  },
  "language_info": {
   "codemirror_mode": {
    "name": "ipython",
    "version": 2
   },
   "file_extension": ".py",
   "mimetype": "text/x-python",
   "name": "python",
   "nbconvert_exporter": "python",
   "pygments_lexer": "ipython2",
   "version": "2.7.6"
  }
 },
 "nbformat": 4,
 "nbformat_minor": 5
}
